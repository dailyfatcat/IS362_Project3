{
 "cells": [
  {
   "cell_type": "markdown",
   "metadata": {
    "collapsed": true,
    "pycharm": {
     "name": "#%% md\n"
    }
   },
   "source": [
    "Project 3\n",
    "========================\n",
    "1 - *For your database, you should download and install the appropriate version\n",
    "of the Chinook database for your RDBMS, which is available here, under the\n",
    "downloads tab: https://chinookdatabase.codeplex.com/*\n",
    "Download can now be found here: https://github.com/lerocha/chinook-database/tree/master/ChinookDatabase/DataSources"
   ]
  },
  {
   "cell_type": "code",
   "execution_count": 4,
   "outputs": [],
   "source": [
    "#import pandas and numpy\n",
    "import numpy as np\n",
    "import pandas as pd\n",
    "import sqlite3"
   ],
   "metadata": {
    "collapsed": false,
    "pycharm": {
     "name": "#%%\n"
    }
   }
  },
  {
   "cell_type": "markdown",
   "source": [
    "**Connect to the SQL Lite Database - RDMS**"
   ],
   "metadata": {
    "collapsed": false,
    "pycharm": {
     "name": "#%% md\n"
    }
   }
  },
  {
   "cell_type": "code",
   "execution_count": 5,
   "outputs": [],
   "source": [
    "connection = sqlite3.connect(\"Chinook_Sqlite.sqlite\")\n"
   ],
   "metadata": {
    "collapsed": false,
    "pycharm": {
     "name": "#%%\n"
    }
   }
  },
  {
   "cell_type": "markdown",
   "source": [
    "Your task is to create a pandas DataFrame that displays Customers’ Last\n",
    "Name and First Name, and each customer’s purchased Track names and\n",
    "Album Titles.\n",
    "The information should be sorted by Customer LastName then Customer FirstName."
   ],
   "metadata": {
    "collapsed": false,
    "pycharm": {
     "name": "#%% md\n"
    }
   }
  },
  {
   "cell_type": "code",
   "execution_count": 6,
   "outputs": [
    {
     "data": {
      "text/plain": "     FirstName    LastName                                               Name  \\\n0      Roberto     Almeida                            Right Next Door to Hell   \n1      Roberto     Almeida                                     In The Evening   \n2      Roberto     Almeida                                   Fool In The Rain   \n3      Roberto     Almeida  Saudade Dos Aviões Da Panair (Conversando No Bar)   \n4      Roberto     Almeida                             Caso Você Queira Saber   \n...        ...         ...                                                ...   \n2235      Fynn  Zimmermann                                    Nothin' To Lose   \n2236      Fynn  Zimmermann                         Since I've Been Loving You   \n2237      Fynn  Zimmermann                                Going To California   \n2238      Fynn  Zimmermann                                 We're Gonna Groove   \n2239      Fynn  Zimmermann                                         Ozone Baby   \n\n                             Title  \n0              Use Your Illusion I  \n1          In Through The Out Door  \n2          In Through The Out Door  \n3                            Minas  \n4                            Minas  \n...                            ...  \n2235              Unplugged [Live]  \n2236  BBC Sessions [Disc 2] [Live]  \n2237  BBC Sessions [Disc 2] [Live]  \n2238                          Coda  \n2239                          Coda  \n\n[2240 rows x 4 columns]",
      "text/html": "<div>\n<style scoped>\n    .dataframe tbody tr th:only-of-type {\n        vertical-align: middle;\n    }\n\n    .dataframe tbody tr th {\n        vertical-align: top;\n    }\n\n    .dataframe thead th {\n        text-align: right;\n    }\n</style>\n<table border=\"1\" class=\"dataframe\">\n  <thead>\n    <tr style=\"text-align: right;\">\n      <th></th>\n      <th>FirstName</th>\n      <th>LastName</th>\n      <th>Name</th>\n      <th>Title</th>\n    </tr>\n  </thead>\n  <tbody>\n    <tr>\n      <th>0</th>\n      <td>Roberto</td>\n      <td>Almeida</td>\n      <td>Right Next Door to Hell</td>\n      <td>Use Your Illusion I</td>\n    </tr>\n    <tr>\n      <th>1</th>\n      <td>Roberto</td>\n      <td>Almeida</td>\n      <td>In The Evening</td>\n      <td>In Through The Out Door</td>\n    </tr>\n    <tr>\n      <th>2</th>\n      <td>Roberto</td>\n      <td>Almeida</td>\n      <td>Fool In The Rain</td>\n      <td>In Through The Out Door</td>\n    </tr>\n    <tr>\n      <th>3</th>\n      <td>Roberto</td>\n      <td>Almeida</td>\n      <td>Saudade Dos Aviões Da Panair (Conversando No Bar)</td>\n      <td>Minas</td>\n    </tr>\n    <tr>\n      <th>4</th>\n      <td>Roberto</td>\n      <td>Almeida</td>\n      <td>Caso Você Queira Saber</td>\n      <td>Minas</td>\n    </tr>\n    <tr>\n      <th>...</th>\n      <td>...</td>\n      <td>...</td>\n      <td>...</td>\n      <td>...</td>\n    </tr>\n    <tr>\n      <th>2235</th>\n      <td>Fynn</td>\n      <td>Zimmermann</td>\n      <td>Nothin' To Lose</td>\n      <td>Unplugged [Live]</td>\n    </tr>\n    <tr>\n      <th>2236</th>\n      <td>Fynn</td>\n      <td>Zimmermann</td>\n      <td>Since I've Been Loving You</td>\n      <td>BBC Sessions [Disc 2] [Live]</td>\n    </tr>\n    <tr>\n      <th>2237</th>\n      <td>Fynn</td>\n      <td>Zimmermann</td>\n      <td>Going To California</td>\n      <td>BBC Sessions [Disc 2] [Live]</td>\n    </tr>\n    <tr>\n      <th>2238</th>\n      <td>Fynn</td>\n      <td>Zimmermann</td>\n      <td>We're Gonna Groove</td>\n      <td>Coda</td>\n    </tr>\n    <tr>\n      <th>2239</th>\n      <td>Fynn</td>\n      <td>Zimmermann</td>\n      <td>Ozone Baby</td>\n      <td>Coda</td>\n    </tr>\n  </tbody>\n</table>\n<p>2240 rows × 4 columns</p>\n</div>"
     },
     "execution_count": 6,
     "metadata": {},
     "output_type": "execute_result"
    }
   ],
   "source": [
    "#Using Inner Joins since we only want data that is available on both tables\n",
    "query = '''SELECT customer.firstname, customer.lastname, track.name, album.Title\n",
    "                              FROM customer\n",
    "                              INNER JOIN invoice ON customer.CustomerID = invoice.CustomerID\n",
    "                              INNER JOIN invoiceline ON invoiceline.invoiceID = invoice.invoiceID\n",
    "                              INNER JOIN track ON invoiceline.trackID = track.trackID\n",
    "                              INNER JOIN album ON album.albumid = track.albumid\n",
    "                              ORDER BY customer.LastName, customer.Firstname'''\n",
    "results = pd.read_sql(query, connection)\n",
    "results"
   ],
   "metadata": {
    "collapsed": false,
    "pycharm": {
     "name": "#%%\n"
    }
   }
  },
  {
   "cell_type": "markdown",
   "source": [
    "The first five rows of results should look the assingment:"
   ],
   "metadata": {
    "collapsed": false
   }
  },
  {
   "cell_type": "code",
   "execution_count": 7,
   "outputs": [
    {
     "data": {
      "text/plain": "  FirstName LastName                                               Name  \\\n0   Roberto  Almeida                            Right Next Door to Hell   \n1   Roberto  Almeida                                     In The Evening   \n2   Roberto  Almeida                                   Fool In The Rain   \n3   Roberto  Almeida  Saudade Dos Aviões Da Panair (Conversando No Bar)   \n4   Roberto  Almeida                             Caso Você Queira Saber   \n\n                     Title  \n0      Use Your Illusion I  \n1  In Through The Out Door  \n2  In Through The Out Door  \n3                    Minas  \n4                    Minas  ",
      "text/html": "<div>\n<style scoped>\n    .dataframe tbody tr th:only-of-type {\n        vertical-align: middle;\n    }\n\n    .dataframe tbody tr th {\n        vertical-align: top;\n    }\n\n    .dataframe thead th {\n        text-align: right;\n    }\n</style>\n<table border=\"1\" class=\"dataframe\">\n  <thead>\n    <tr style=\"text-align: right;\">\n      <th></th>\n      <th>FirstName</th>\n      <th>LastName</th>\n      <th>Name</th>\n      <th>Title</th>\n    </tr>\n  </thead>\n  <tbody>\n    <tr>\n      <th>0</th>\n      <td>Roberto</td>\n      <td>Almeida</td>\n      <td>Right Next Door to Hell</td>\n      <td>Use Your Illusion I</td>\n    </tr>\n    <tr>\n      <th>1</th>\n      <td>Roberto</td>\n      <td>Almeida</td>\n      <td>In The Evening</td>\n      <td>In Through The Out Door</td>\n    </tr>\n    <tr>\n      <th>2</th>\n      <td>Roberto</td>\n      <td>Almeida</td>\n      <td>Fool In The Rain</td>\n      <td>In Through The Out Door</td>\n    </tr>\n    <tr>\n      <th>3</th>\n      <td>Roberto</td>\n      <td>Almeida</td>\n      <td>Saudade Dos Aviões Da Panair (Conversando No Bar)</td>\n      <td>Minas</td>\n    </tr>\n    <tr>\n      <th>4</th>\n      <td>Roberto</td>\n      <td>Almeida</td>\n      <td>Caso Você Queira Saber</td>\n      <td>Minas</td>\n    </tr>\n  </tbody>\n</table>\n</div>"
     },
     "execution_count": 7,
     "metadata": {},
     "output_type": "execute_result"
    }
   ],
   "source": [
    "results.head()"
   ],
   "metadata": {
    "collapsed": false,
    "pycharm": {
     "name": "#%%\n"
    }
   }
  }
 ],
 "metadata": {
  "kernelspec": {
   "display_name": "Python 3",
   "language": "python",
   "name": "python3"
  },
  "language_info": {
   "codemirror_mode": {
    "name": "ipython",
    "version": 2
   },
   "file_extension": ".py",
   "mimetype": "text/x-python",
   "name": "python",
   "nbconvert_exporter": "python",
   "pygments_lexer": "ipython2",
   "version": "2.7.6"
  }
 },
 "nbformat": 4,
 "nbformat_minor": 0
}