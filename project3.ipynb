{
 "cells": [
  {
   "cell_type": "markdown",
   "metadata": {
    "collapsed": true,
    "pycharm": {
     "name": "#%% md\n"
    }
   },
   "source": [
    "Project 3\n",
    "========================\n",
    "1 - *For your database, you should download and install the appropriate version\n",
    "of the Chinook database for your RDBMS, which is available here, under the\n",
    "downloads tab: https://chinookdatabase.codeplex.com/*\n",
    "Download can now be found here: https://github.com/lerocha/chinook-database/tree/master/ChinookDatabase/DataSources"
   ]
  },
  {
   "cell_type": "code",
   "execution_count": 17,
   "outputs": [],
   "source": [
    "#import pandas and numpy\n",
    "import numpy as np\n",
    "import pandas as pd\n",
    "import sqlite3\n",
    "\n",
    "# Set some pandas options for controlling output\n",
    "pd.set_option('display.notebook_repr_html', False)\n",
    "pd.set_option('display.max_columns', 10)\n",
    "pd.set_option('display.max_rows', 10)"
   ],
   "metadata": {
    "collapsed": false,
    "pycharm": {
     "name": "#%%\n"
    }
   }
  },
  {
   "cell_type": "markdown",
   "source": [
    "**Connect to the SQL Lite Database**"
   ],
   "metadata": {
    "collapsed": false,
    "pycharm": {
     "name": "#%% md\n"
    }
   }
  },
  {
   "cell_type": "code",
   "execution_count": 18,
   "outputs": [],
   "source": [
    "connection = sqlite3.connect(\"Chinook_Sqlite.sqlite\")\n"
   ],
   "metadata": {
    "collapsed": false,
    "pycharm": {
     "name": "#%%\n"
    }
   }
  },
  {
   "cell_type": "markdown",
   "source": [
    "Your task is to create a pandas DataFrame that displays Customers’ Last\n",
    "Name and First Name, and each customer’s purchased Track names and\n",
    "Album Titles."
   ],
   "metadata": {
    "collapsed": false,
    "pycharm": {
     "name": "#%% md\n"
    }
   }
  },
  {
   "cell_type": "code",
   "execution_count": 19,
   "outputs": [],
   "source": [
    "#Using Inner Joins since we only want data that is available on both tables\n",
    "\n",
    "results = pd.io.sql.read_sql('''SELECT customer.firstname, customer.lastname, track.name, album.Title\n",
    "                              FROM customer\n",
    "                              INNER JOIN invoice ON customer.CustomerID = invoice.CustomerID\n",
    "                              INNER JOIN invoiceline ON invoiceline.invoiceID = invoice.invoiceID\n",
    "                              INNER JOIN track ON invoiceline.trackID = track.trackID\n",
    "                              INNER JOIN album ON album.albumid = track.albumid\n",
    "                              ORDER BY customer.LastName, customer.Firstname''', connection)"
   ],
   "metadata": {
    "collapsed": false,
    "pycharm": {
     "name": "#%%\n"
    }
   }
  },
  {
   "cell_type": "markdown",
   "source": [
    "The information should be sorted by Customer LastName then Customer FirstName."
   ],
   "metadata": {
    "collapsed": false
   }
  },
  {
   "cell_type": "code",
   "source": [
    "results"
   ],
   "metadata": {
    "collapsed": false,
    "pycharm": {
     "name": "#%%\n"
    }
   },
   "execution_count": 20,
   "outputs": [
    {
     "data": {
      "text/plain": "     FirstName    LastName                                               Name  \\\n0      Roberto     Almeida                            Right Next Door to Hell   \n1      Roberto     Almeida                                     In The Evening   \n2      Roberto     Almeida                                   Fool In The Rain   \n3      Roberto     Almeida  Saudade Dos Aviões Da Panair (Conversando No Bar)   \n4      Roberto     Almeida                             Caso Você Queira Saber   \n...        ...         ...                                                ...   \n2235      Fynn  Zimmermann                                    Nothin' To Lose   \n2236      Fynn  Zimmermann                         Since I've Been Loving You   \n2237      Fynn  Zimmermann                                Going To California   \n2238      Fynn  Zimmermann                                 We're Gonna Groove   \n2239      Fynn  Zimmermann                                         Ozone Baby   \n\n                             Title  \n0              Use Your Illusion I  \n1          In Through The Out Door  \n2          In Through The Out Door  \n3                            Minas  \n4                            Minas  \n...                            ...  \n2235              Unplugged [Live]  \n2236  BBC Sessions [Disc 2] [Live]  \n2237  BBC Sessions [Disc 2] [Live]  \n2238                          Coda  \n2239                          Coda  \n\n[2240 rows x 4 columns]"
     },
     "execution_count": 20,
     "metadata": {},
     "output_type": "execute_result"
    }
   ]
  }
 ],
 "metadata": {
  "kernelspec": {
   "display_name": "Python 3",
   "language": "python",
   "name": "python3"
  },
  "language_info": {
   "codemirror_mode": {
    "name": "ipython",
    "version": 2
   },
   "file_extension": ".py",
   "mimetype": "text/x-python",
   "name": "python",
   "nbconvert_exporter": "python",
   "pygments_lexer": "ipython2",
   "version": "2.7.6"
  }
 },
 "nbformat": 4,
 "nbformat_minor": 0
}